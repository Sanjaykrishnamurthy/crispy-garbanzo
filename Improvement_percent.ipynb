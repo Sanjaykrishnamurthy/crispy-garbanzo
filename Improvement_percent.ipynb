{
 "cells": [
  {
   "cell_type": "code",
   "execution_count": 1,
   "metadata": {},
   "outputs": [],
   "source": [
    "import pandas as pd"
   ]
  },
  {
   "cell_type": "code",
   "execution_count": 2,
   "metadata": {},
   "outputs": [
    {
     "data": {
      "text/html": [
       "<div>\n",
       "<style scoped>\n",
       "    .dataframe tbody tr th:only-of-type {\n",
       "        vertical-align: middle;\n",
       "    }\n",
       "\n",
       "    .dataframe tbody tr th {\n",
       "        vertical-align: top;\n",
       "    }\n",
       "\n",
       "    .dataframe thead th {\n",
       "        text-align: right;\n",
       "    }\n",
       "</style>\n",
       "<table border=\"1\" class=\"dataframe\">\n",
       "  <thead>\n",
       "    <tr style=\"text-align: right;\">\n",
       "      <th></th>\n",
       "      <th>Model</th>\n",
       "      <th>Hit@5</th>\n",
       "      <th>MRR@5</th>\n",
       "      <th>Hit@10</th>\n",
       "      <th>MRR@10</th>\n",
       "      <th>Hit@20</th>\n",
       "      <th>MRR@20</th>\n",
       "    </tr>\n",
       "  </thead>\n",
       "  <tbody>\n",
       "    <tr>\n",
       "      <th>0</th>\n",
       "      <td>FPMC</td>\n",
       "      <td>0.907</td>\n",
       "      <td>0.562</td>\n",
       "      <td>1.131</td>\n",
       "      <td>0.591</td>\n",
       "      <td>1.301</td>\n",
       "      <td>0.602</td>\n",
       "    </tr>\n",
       "    <tr>\n",
       "      <th>1</th>\n",
       "      <td>GRU4REC</td>\n",
       "      <td>0.756</td>\n",
       "      <td>0.497</td>\n",
       "      <td>0.942</td>\n",
       "      <td>0.523</td>\n",
       "      <td>1.155</td>\n",
       "      <td>0.554</td>\n",
       "    </tr>\n",
       "    <tr>\n",
       "      <th>2</th>\n",
       "      <td>NARM</td>\n",
       "      <td>0.877</td>\n",
       "      <td>0.542</td>\n",
       "      <td>1.164</td>\n",
       "      <td>0.596</td>\n",
       "      <td>1.350</td>\n",
       "      <td>0.609</td>\n",
       "    </tr>\n",
       "    <tr>\n",
       "      <th>3</th>\n",
       "      <td>STAMP</td>\n",
       "      <td>0.901</td>\n",
       "      <td>0.562</td>\n",
       "      <td>1.241</td>\n",
       "      <td>0.619</td>\n",
       "      <td>1.831</td>\n",
       "      <td>0.654</td>\n",
       "    </tr>\n",
       "    <tr>\n",
       "      <th>4</th>\n",
       "      <td>SASRec</td>\n",
       "      <td>0.949</td>\n",
       "      <td>0.585</td>\n",
       "      <td>1.362</td>\n",
       "      <td>0.694</td>\n",
       "      <td>2.182</td>\n",
       "      <td>0.786</td>\n",
       "    </tr>\n",
       "  </tbody>\n",
       "</table>\n",
       "</div>"
      ],
      "text/plain": [
       "     Model  Hit@5  MRR@5  Hit@10  MRR@10  Hit@20  MRR@20\n",
       "0     FPMC  0.907  0.562   1.131   0.591   1.301   0.602\n",
       "1  GRU4REC  0.756  0.497   0.942   0.523   1.155   0.554\n",
       "2     NARM  0.877  0.542   1.164   0.596   1.350   0.609\n",
       "3    STAMP  0.901  0.562   1.241   0.619   1.831   0.654\n",
       "4   SASRec  0.949  0.585   1.362   0.694   2.182   0.786"
      ]
     },
     "execution_count": 2,
     "metadata": {},
     "output_type": "execute_result"
    }
   ],
   "source": [
    "# The data should be in this format. Then we calculate the percentage improvement of one baseline over the other in the next steps.\n",
    "df = pd.read_clipboard()\n",
    "df.head()"
   ]
  },
  {
   "cell_type": "code",
   "execution_count": 3,
   "metadata": {},
   "outputs": [],
   "source": [
    "df.set_index('Model', inplace=True)"
   ]
  },
  {
   "cell_type": "code",
   "execution_count": 4,
   "metadata": {},
   "outputs": [
    {
     "data": {
      "text/html": [
       "<div>\n",
       "<style scoped>\n",
       "    .dataframe tbody tr th:only-of-type {\n",
       "        vertical-align: middle;\n",
       "    }\n",
       "\n",
       "    .dataframe tbody tr th {\n",
       "        vertical-align: top;\n",
       "    }\n",
       "\n",
       "    .dataframe thead th {\n",
       "        text-align: right;\n",
       "    }\n",
       "</style>\n",
       "<table border=\"1\" class=\"dataframe\">\n",
       "  <thead>\n",
       "    <tr style=\"text-align: right;\">\n",
       "      <th></th>\n",
       "      <th>MRR@5</th>\n",
       "      <th>Hit@10</th>\n",
       "      <th>MRR@10</th>\n",
       "      <th>Hit@20</th>\n",
       "      <th>MRR@20</th>\n",
       "    </tr>\n",
       "  </thead>\n",
       "  <tbody>\n",
       "    <tr>\n",
       "      <th>Best Alternative Model</th>\n",
       "      <td>0.769</td>\n",
       "      <td>1.841</td>\n",
       "      <td>0.838</td>\n",
       "      <td>2.975</td>\n",
       "      <td>0.878</td>\n",
       "    </tr>\n",
       "    <tr>\n",
       "      <th>My Model</th>\n",
       "      <td>0.786</td>\n",
       "      <td>2.241</td>\n",
       "      <td>0.866</td>\n",
       "      <td>3.390</td>\n",
       "      <td>0.925</td>\n",
       "    </tr>\n",
       "  </tbody>\n",
       "</table>\n",
       "</div>"
      ],
      "text/plain": [
       "                        MRR@5  Hit@10  MRR@10  Hit@20  MRR@20\n",
       "Best Alternative Model  0.769   1.841   0.838   2.975   0.878\n",
       "My Model                0.786   2.241   0.866   3.390   0.925"
      ]
     },
     "execution_count": 4,
     "metadata": {},
     "output_type": "execute_result"
    }
   ],
   "source": [
    "df_best_alternative_model = df.iloc[:-1,1:].max().to_frame().T\n",
    "df_my_model = df.iloc[-1,1:].to_frame().T\n",
    "df_improvement = pd.concat([df_best_alternative_model, df_my_model]) \n",
    "df_improvement.index = ['Best Alternative Model', 'My Model']\n",
    "df_improvement"
   ]
  },
  {
   "cell_type": "code",
   "execution_count": 6,
   "metadata": {},
   "outputs": [
    {
     "data": {
      "text/html": [
       "<div>\n",
       "<style scoped>\n",
       "    .dataframe tbody tr th:only-of-type {\n",
       "        vertical-align: middle;\n",
       "    }\n",
       "\n",
       "    .dataframe tbody tr th {\n",
       "        vertical-align: top;\n",
       "    }\n",
       "\n",
       "    .dataframe thead th {\n",
       "        text-align: right;\n",
       "    }\n",
       "</style>\n",
       "<table border=\"1\" class=\"dataframe\">\n",
       "  <thead>\n",
       "    <tr style=\"text-align: right;\">\n",
       "      <th></th>\n",
       "      <th>MRR@5</th>\n",
       "      <th>Hit@10</th>\n",
       "      <th>MRR@10</th>\n",
       "      <th>Hit@20</th>\n",
       "      <th>MRR@20</th>\n",
       "    </tr>\n",
       "  </thead>\n",
       "  <tbody>\n",
       "    <tr>\n",
       "      <th>Best Alternative Model</th>\n",
       "      <td>0.769</td>\n",
       "      <td>1.841</td>\n",
       "      <td>0.838</td>\n",
       "      <td>2.975</td>\n",
       "      <td>0.878</td>\n",
       "    </tr>\n",
       "    <tr>\n",
       "      <th>My Model</th>\n",
       "      <td>0.786</td>\n",
       "      <td>2.241</td>\n",
       "      <td>0.866</td>\n",
       "      <td>3.390</td>\n",
       "      <td>0.925</td>\n",
       "    </tr>\n",
       "    <tr>\n",
       "      <th>Improvement Percentage</th>\n",
       "      <td>2.210</td>\n",
       "      <td>21.730</td>\n",
       "      <td>3.340</td>\n",
       "      <td>13.950</td>\n",
       "      <td>5.350</td>\n",
       "    </tr>\n",
       "  </tbody>\n",
       "</table>\n",
       "</div>"
      ],
      "text/plain": [
       "                        MRR@5  Hit@10  MRR@10  Hit@20  MRR@20\n",
       "Best Alternative Model  0.769   1.841   0.838   2.975   0.878\n",
       "My Model                0.786   2.241   0.866   3.390   0.925\n",
       "Improvement Percentage  2.210  21.730   3.340  13.950   5.350"
      ]
     },
     "execution_count": 6,
     "metadata": {},
     "output_type": "execute_result"
    }
   ],
   "source": [
    "df_improvement.loc['Improvement Percentage'] = (df_improvement.pct_change(axis=0).iloc[[1]].round(4)*100).values[0]\n",
    "df_improvement"
   ]
  }
 ],
 "metadata": {
  "kernelspec": {
   "display_name": "sbrec",
   "language": "python",
   "name": "python3"
  },
  "language_info": {
   "codemirror_mode": {
    "name": "ipython",
    "version": 3
   },
   "file_extension": ".py",
   "mimetype": "text/x-python",
   "name": "python",
   "nbconvert_exporter": "python",
   "pygments_lexer": "ipython3",
   "version": "3.10.11"
  },
  "orig_nbformat": 4
 },
 "nbformat": 4,
 "nbformat_minor": 2
}
